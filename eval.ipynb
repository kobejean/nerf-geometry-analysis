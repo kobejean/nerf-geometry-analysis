{
 "cells": [
  {
   "cell_type": "code",
   "execution_count": 10,
   "metadata": {},
   "outputs": [],
   "source": [
    "from nga.utils import load_config, plane_eval_ray_bundle, save_as_image, convert_to_transformed_space\n",
    "from nerfstudio.utils.eval_utils import eval_load_checkpoint\n",
    "from nerfstudio.cameras.rays import RayBundle\n",
    "from nerfstudio.utils import colormaps\n",
    "from nerfstudio.utils.io import load_from_json\n",
    "\n",
    "from PIL import Image\n",
    "from pathlib import Path\n",
    "import yaml\n",
    "import torch\n",
    "import json\n",
    "import numpy as np\n",
    "import OpenEXR, Imath\n",
    "import matplotlib.pyplot as plt"
   ]
  },
  {
   "cell_type": "code",
   "execution_count": 2,
   "metadata": {},
   "outputs": [],
   "source": [
    "\n",
    "def sphere_eval_ray_bundle(dataparser_transforms_data, sampling_width, n = 1001):\n",
    "    dataparser_scale = dataparser_transforms_data[\"scale\"]\n",
    "    x = torch.linspace(-0.5, 0.5, n)\n",
    "    y = torch.linspace(-0.5, 0.5, n)\n",
    "    z = sampling_width\n",
    "    grid_x, grid_y = torch.meshgrid(x, y)\n",
    "    origins = torch.stack([grid_x, grid_y, z * torch.ones([n, n])], dim=-1)\n",
    "    origins = convert_to_transformed_space(origins, dataparser_transforms_data)\n",
    "    directions = torch.zeros_like(origins)\n",
    "    directions[:, :, 2] = -1.0\n",
    "    pixel_area = (dataparser_scale ** 2) * torch.ones((n, n, 1)) / (n ** 2)\n",
    "    nears = torch.zeros((n, n, 1))\n",
    "    fars = torch.ones((n, n, 1)) * 2 * sampling_width * dataparser_scale\n",
    "    camera_indices = torch.zeros((n, n, 1))\n",
    "\n",
    "    ray_bundle = RayBundle(\n",
    "        origins=origins, directions=directions, pixel_area=pixel_area,\n",
    "        camera_indices=camera_indices,\n",
    "        nears=nears,\n",
    "        fars=fars, \n",
    "    )\n",
    "    return ray_bundle\n",
    "\n",
    "def load_metadata(config):\n",
    "    if config.data.suffix == \".json\":\n",
    "        meta = load_from_json(config.data)\n",
    "        data_dir = config.data.parent\n",
    "    else:\n",
    "        meta = load_from_json(config.data / \"transforms.json\")\n",
    "        data_dir = config.data\n",
    "    return meta, data_dir"
   ]
  },
  {
   "cell_type": "code",
   "execution_count": 3,
   "metadata": {},
   "outputs": [],
   "source": [
    "config_path = \"outputs/pattern_plane1_720x480/instant-ngp/2023-09-19_084949/config.yml\"\n",
    "# config_path = \"outputs/pattern_plane1_720x480/instant-ngp-bounded/2023-09-18_193840/config.yml\"\n",
    "# config_path = \"outputs/pattern_plane1_720x480/nerfacto/2023-09-14_142127/config.yml\"\n",
    "# config_path = \"outputs/pattern_plane1_720x480/tensorf/2023-09-17_171505/config.yml\"\n",
    "# config_path = \"outputs/pattern_plane1_720x480/kplanes/2023-09-18_222327/config.yml\"\n",
    "\n",
    "\n",
    "config = load_config(config_path)\n",
    "config.load_dir = config.get_checkpoint_dir()\n",
    "\n",
    "meta, data_dir = load_metadata(config)\n"
   ]
  },
  {
   "cell_type": "code",
   "execution_count": 4,
   "metadata": {},
   "outputs": [
    {
     "data": {
      "text/html": [
       "<pre style=\"white-space:pre;overflow-x:auto;line-height:normal;font-family:Menlo,'DejaVu Sans Mono',consolas,'Courier New',monospace\"><span style=\"color: #7fbfbf; text-decoration-color: #7fbfbf\">[10:33:53] </span>Auto image downscale factor of <span style=\"color: #008080; text-decoration-color: #008080; font-weight: bold\">1</span>                                                 <a href=\"file:///home/ccl/.conda/envs/nerfstudio/lib/python3.8/site-packages/nerfstudio/data/dataparsers/nerfstudio_dataparser.py\" target=\"_blank\"><span style=\"color: #7f7f7f; text-decoration-color: #7f7f7f\">nerfstudio_dataparser.py</span></a><span style=\"color: #7f7f7f; text-decoration-color: #7f7f7f\">:</span><a href=\"file:///home/ccl/.conda/envs/nerfstudio/lib/python3.8/site-packages/nerfstudio/data/dataparsers/nerfstudio_dataparser.py#349\" target=\"_blank\"><span style=\"color: #7f7f7f; text-decoration-color: #7f7f7f\">349</span></a>\n",
       "</pre>\n"
      ],
      "text/plain": [
       "\u001b[2;36m[10:33:53]\u001b[0m\u001b[2;36m \u001b[0mAuto image downscale factor of \u001b[1;36m1\u001b[0m                                                 \u001b]8;id=883345;file:///home/ccl/.conda/envs/nerfstudio/lib/python3.8/site-packages/nerfstudio/data/dataparsers/nerfstudio_dataparser.py\u001b\\\u001b[2mnerfstudio_dataparser.py\u001b[0m\u001b]8;;\u001b\\\u001b[2m:\u001b[0m\u001b]8;id=886055;file:///home/ccl/.conda/envs/nerfstudio/lib/python3.8/site-packages/nerfstudio/data/dataparsers/nerfstudio_dataparser.py#349\u001b\\\u001b[2m349\u001b[0m\u001b]8;;\u001b\\\n"
      ]
     },
     "metadata": {},
     "output_type": "display_data"
    },
    {
     "data": {
      "text/html": [
       "<pre style=\"white-space:pre;overflow-x:auto;line-height:normal;font-family:Menlo,'DejaVu Sans Mono',consolas,'Courier New',monospace\"><span style=\"color: #7fbfbf; text-decoration-color: #7fbfbf\">           </span><span style=\"color: #808000; text-decoration-color: #808000\"> Dataset is overriding train_indices to </span><span style=\"color: #808000; text-decoration-color: #808000; font-weight: bold\">[</span><span style=\"color: #808000; text-decoration-color: #808000; font-weight: bold\">20</span><span style=\"color: #808000; text-decoration-color: #808000\">, </span><span style=\"color: #808000; text-decoration-color: #808000; font-weight: bold\">21</span><span style=\"color: #808000; text-decoration-color: #808000\">, </span><span style=\"color: #808000; text-decoration-color: #808000; font-weight: bold\">22</span><span style=\"color: #808000; text-decoration-color: #808000\">, </span><span style=\"color: #808000; text-decoration-color: #808000; font-weight: bold\">23</span><span style=\"color: #808000; text-decoration-color: #808000\">, </span><span style=\"color: #808000; text-decoration-color: #808000; font-weight: bold\">24</span><span style=\"color: #808000; text-decoration-color: #808000\">, </span><span style=\"color: #808000; text-decoration-color: #808000; font-weight: bold\">25</span><span style=\"color: #808000; text-decoration-color: #808000\">, </span><span style=\"color: #808000; text-decoration-color: #808000; font-weight: bold\">26</span><span style=\"color: #808000; text-decoration-color: #808000\">, </span><span style=\"color: #808000; text-decoration-color: #808000; font-weight: bold\">27</span><span style=\"color: #808000; text-decoration-color: #808000\">, </span><span style=\"color: #808000; text-decoration-color: #808000; font-weight: bold\">28</span><span style=\"color: #808000; text-decoration-color: #808000\">, </span><span style=\"color: #808000; text-decoration-color: #808000; font-weight: bold\">29</span><span style=\"color: #808000; text-decoration-color: #808000\">,</span> <a href=\"file:///home/ccl/.conda/envs/nerfstudio/lib/python3.8/site-packages/nerfstudio/data/dataparsers/nerfstudio_dataparser.py\" target=\"_blank\"><span style=\"color: #7f7f7f; text-decoration-color: #7f7f7f\">nerfstudio_dataparser.py</span></a><span style=\"color: #7f7f7f; text-decoration-color: #7f7f7f\">:</span><a href=\"file:///home/ccl/.conda/envs/nerfstudio/lib/python3.8/site-packages/nerfstudio/data/dataparsers/nerfstudio_dataparser.py#200\" target=\"_blank\"><span style=\"color: #7f7f7f; text-decoration-color: #7f7f7f\">200</span></a>\n",
       "<span style=\"color: #7fbfbf; text-decoration-color: #7fbfbf\">           </span><span style=\"color: #808000; text-decoration-color: #808000; font-weight: bold\">30</span><span style=\"color: #808000; text-decoration-color: #808000\">, </span><span style=\"color: #808000; text-decoration-color: #808000; font-weight: bold\">31</span><span style=\"color: #808000; text-decoration-color: #808000\">, </span><span style=\"color: #808000; text-decoration-color: #808000; font-weight: bold\">32</span><span style=\"color: #808000; text-decoration-color: #808000\">, </span><span style=\"color: #808000; text-decoration-color: #808000; font-weight: bold\">33</span><span style=\"color: #808000; text-decoration-color: #808000\">, </span><span style=\"color: #808000; text-decoration-color: #808000; font-weight: bold\">34</span><span style=\"color: #808000; text-decoration-color: #808000\">, </span><span style=\"color: #808000; text-decoration-color: #808000; font-weight: bold\">35</span><span style=\"color: #808000; text-decoration-color: #808000\">, </span><span style=\"color: #808000; text-decoration-color: #808000; font-weight: bold\">36</span><span style=\"color: #808000; text-decoration-color: #808000\">, </span><span style=\"color: #808000; text-decoration-color: #808000; font-weight: bold\">37</span><span style=\"color: #808000; text-decoration-color: #808000\">, </span><span style=\"color: #808000; text-decoration-color: #808000; font-weight: bold\">38</span><span style=\"color: #808000; text-decoration-color: #808000\">, </span><span style=\"color: #808000; text-decoration-color: #808000; font-weight: bold\">39</span><span style=\"color: #808000; text-decoration-color: #808000\">, </span><span style=\"color: #808000; text-decoration-color: #808000; font-weight: bold\">40</span><span style=\"color: #808000; text-decoration-color: #808000\">, </span><span style=\"color: #808000; text-decoration-color: #808000; font-weight: bold\">41</span><span style=\"color: #808000; text-decoration-color: #808000\">, </span><span style=\"color: #808000; text-decoration-color: #808000; font-weight: bold\">42</span><span style=\"color: #808000; text-decoration-color: #808000\">, </span><span style=\"color: #808000; text-decoration-color: #808000; font-weight: bold\">43</span><span style=\"color: #808000; text-decoration-color: #808000\">, </span><span style=\"color: #808000; text-decoration-color: #808000; font-weight: bold\">44</span><span style=\"color: #808000; text-decoration-color: #808000\">, </span><span style=\"color: #808000; text-decoration-color: #808000; font-weight: bold\">45</span><span style=\"color: #808000; text-decoration-color: #808000\">, </span><span style=\"color: #808000; text-decoration-color: #808000; font-weight: bold\">46</span><span style=\"color: #808000; text-decoration-color: #808000\">, </span><span style=\"color: #808000; text-decoration-color: #808000; font-weight: bold\">47</span><span style=\"color: #808000; text-decoration-color: #808000\">, </span><span style=\"color: #808000; text-decoration-color: #808000; font-weight: bold\">48</span><span style=\"color: #808000; text-decoration-color: #808000\">, </span><span style=\"color: #808000; text-decoration-color: #808000; font-weight: bold\">49</span><span style=\"color: #808000; text-decoration-color: #808000\">, </span> <span style=\"color: #7f7f7f; text-decoration-color: #7f7f7f\">                            </span>\n",
       "<span style=\"color: #7fbfbf; text-decoration-color: #7fbfbf\">           </span><span style=\"color: #808000; text-decoration-color: #808000; font-weight: bold\">50</span><span style=\"color: #808000; text-decoration-color: #808000\">, </span><span style=\"color: #808000; text-decoration-color: #808000; font-weight: bold\">51</span><span style=\"color: #808000; text-decoration-color: #808000\">, </span><span style=\"color: #808000; text-decoration-color: #808000; font-weight: bold\">52</span><span style=\"color: #808000; text-decoration-color: #808000\">, </span><span style=\"color: #808000; text-decoration-color: #808000; font-weight: bold\">53</span><span style=\"color: #808000; text-decoration-color: #808000\">, </span><span style=\"color: #808000; text-decoration-color: #808000; font-weight: bold\">54</span><span style=\"color: #808000; text-decoration-color: #808000\">, </span><span style=\"color: #808000; text-decoration-color: #808000; font-weight: bold\">55</span><span style=\"color: #808000; text-decoration-color: #808000\">, </span><span style=\"color: #808000; text-decoration-color: #808000; font-weight: bold\">56</span><span style=\"color: #808000; text-decoration-color: #808000\">, </span><span style=\"color: #808000; text-decoration-color: #808000; font-weight: bold\">57</span><span style=\"color: #808000; text-decoration-color: #808000\">, </span><span style=\"color: #808000; text-decoration-color: #808000; font-weight: bold\">58</span><span style=\"color: #808000; text-decoration-color: #808000\">, </span><span style=\"color: #808000; text-decoration-color: #808000; font-weight: bold\">59</span><span style=\"color: #808000; text-decoration-color: #808000\">, </span><span style=\"color: #808000; text-decoration-color: #808000; font-weight: bold\">60</span><span style=\"color: #808000; text-decoration-color: #808000\">, </span><span style=\"color: #808000; text-decoration-color: #808000; font-weight: bold\">61</span><span style=\"color: #808000; text-decoration-color: #808000\">, </span><span style=\"color: #808000; text-decoration-color: #808000; font-weight: bold\">62</span><span style=\"color: #808000; text-decoration-color: #808000\">, </span><span style=\"color: #808000; text-decoration-color: #808000; font-weight: bold\">63</span><span style=\"color: #808000; text-decoration-color: #808000\">, </span><span style=\"color: #808000; text-decoration-color: #808000; font-weight: bold\">64</span><span style=\"color: #808000; text-decoration-color: #808000\">, </span><span style=\"color: #808000; text-decoration-color: #808000; font-weight: bold\">65</span><span style=\"color: #808000; text-decoration-color: #808000\">, </span><span style=\"color: #808000; text-decoration-color: #808000; font-weight: bold\">66</span><span style=\"color: #808000; text-decoration-color: #808000\">, </span><span style=\"color: #808000; text-decoration-color: #808000; font-weight: bold\">67</span><span style=\"color: #808000; text-decoration-color: #808000\">, </span><span style=\"color: #808000; text-decoration-color: #808000; font-weight: bold\">68</span><span style=\"color: #808000; text-decoration-color: #808000\">, </span><span style=\"color: #808000; text-decoration-color: #808000; font-weight: bold\">69</span><span style=\"color: #808000; text-decoration-color: #808000\">, </span> <span style=\"color: #7f7f7f; text-decoration-color: #7f7f7f\">                            </span>\n",
       "<span style=\"color: #7fbfbf; text-decoration-color: #7fbfbf\">           </span><span style=\"color: #808000; text-decoration-color: #808000; font-weight: bold\">70</span><span style=\"color: #808000; text-decoration-color: #808000\">, </span><span style=\"color: #808000; text-decoration-color: #808000; font-weight: bold\">71</span><span style=\"color: #808000; text-decoration-color: #808000\">, </span><span style=\"color: #808000; text-decoration-color: #808000; font-weight: bold\">72</span><span style=\"color: #808000; text-decoration-color: #808000\">, </span><span style=\"color: #808000; text-decoration-color: #808000; font-weight: bold\">73</span><span style=\"color: #808000; text-decoration-color: #808000\">, </span><span style=\"color: #808000; text-decoration-color: #808000; font-weight: bold\">74</span><span style=\"color: #808000; text-decoration-color: #808000\">, </span><span style=\"color: #808000; text-decoration-color: #808000; font-weight: bold\">75</span><span style=\"color: #808000; text-decoration-color: #808000\">, </span><span style=\"color: #808000; text-decoration-color: #808000; font-weight: bold\">76</span><span style=\"color: #808000; text-decoration-color: #808000\">, </span><span style=\"color: #808000; text-decoration-color: #808000; font-weight: bold\">77</span><span style=\"color: #808000; text-decoration-color: #808000\">, </span><span style=\"color: #808000; text-decoration-color: #808000; font-weight: bold\">78</span><span style=\"color: #808000; text-decoration-color: #808000\">, </span><span style=\"color: #808000; text-decoration-color: #808000; font-weight: bold\">79</span><span style=\"color: #808000; text-decoration-color: #808000\">, </span><span style=\"color: #808000; text-decoration-color: #808000; font-weight: bold\">80</span><span style=\"color: #808000; text-decoration-color: #808000\">, </span><span style=\"color: #808000; text-decoration-color: #808000; font-weight: bold\">81</span><span style=\"color: #808000; text-decoration-color: #808000\">, </span><span style=\"color: #808000; text-decoration-color: #808000; font-weight: bold\">82</span><span style=\"color: #808000; text-decoration-color: #808000\">, </span><span style=\"color: #808000; text-decoration-color: #808000; font-weight: bold\">83</span><span style=\"color: #808000; text-decoration-color: #808000\">, </span><span style=\"color: #808000; text-decoration-color: #808000; font-weight: bold\">84</span><span style=\"color: #808000; text-decoration-color: #808000\">, </span><span style=\"color: #808000; text-decoration-color: #808000; font-weight: bold\">85</span><span style=\"color: #808000; text-decoration-color: #808000\">, </span><span style=\"color: #808000; text-decoration-color: #808000; font-weight: bold\">86</span><span style=\"color: #808000; text-decoration-color: #808000\">, </span><span style=\"color: #808000; text-decoration-color: #808000; font-weight: bold\">87</span><span style=\"color: #808000; text-decoration-color: #808000\">, </span><span style=\"color: #808000; text-decoration-color: #808000; font-weight: bold\">88</span><span style=\"color: #808000; text-decoration-color: #808000\">, </span><span style=\"color: #808000; text-decoration-color: #808000; font-weight: bold\">89</span><span style=\"color: #808000; text-decoration-color: #808000\">, </span> <span style=\"color: #7f7f7f; text-decoration-color: #7f7f7f\">                            </span>\n",
       "<span style=\"color: #7fbfbf; text-decoration-color: #7fbfbf\">           </span><span style=\"color: #808000; text-decoration-color: #808000; font-weight: bold\">90</span><span style=\"color: #808000; text-decoration-color: #808000\">, </span><span style=\"color: #808000; text-decoration-color: #808000; font-weight: bold\">91</span><span style=\"color: #808000; text-decoration-color: #808000\">, </span><span style=\"color: #808000; text-decoration-color: #808000; font-weight: bold\">92</span><span style=\"color: #808000; text-decoration-color: #808000\">, </span><span style=\"color: #808000; text-decoration-color: #808000; font-weight: bold\">93</span><span style=\"color: #808000; text-decoration-color: #808000\">, </span><span style=\"color: #808000; text-decoration-color: #808000; font-weight: bold\">94</span><span style=\"color: #808000; text-decoration-color: #808000\">, </span><span style=\"color: #808000; text-decoration-color: #808000; font-weight: bold\">95</span><span style=\"color: #808000; text-decoration-color: #808000\">, </span><span style=\"color: #808000; text-decoration-color: #808000; font-weight: bold\">96</span><span style=\"color: #808000; text-decoration-color: #808000\">, </span><span style=\"color: #808000; text-decoration-color: #808000; font-weight: bold\">97</span><span style=\"color: #808000; text-decoration-color: #808000\">, </span><span style=\"color: #808000; text-decoration-color: #808000; font-weight: bold\">98</span><span style=\"color: #808000; text-decoration-color: #808000\">, </span><span style=\"color: #808000; text-decoration-color: #808000; font-weight: bold\">99</span><span style=\"color: #808000; text-decoration-color: #808000\">, </span><span style=\"color: #808000; text-decoration-color: #808000; font-weight: bold\">100</span><span style=\"color: #808000; text-decoration-color: #808000\">, </span><span style=\"color: #808000; text-decoration-color: #808000; font-weight: bold\">101</span><span style=\"color: #808000; text-decoration-color: #808000\">, </span><span style=\"color: #808000; text-decoration-color: #808000; font-weight: bold\">102</span><span style=\"color: #808000; text-decoration-color: #808000\">, </span><span style=\"color: #808000; text-decoration-color: #808000; font-weight: bold\">103</span><span style=\"color: #808000; text-decoration-color: #808000\">, </span><span style=\"color: #808000; text-decoration-color: #808000; font-weight: bold\">104</span><span style=\"color: #808000; text-decoration-color: #808000\">, </span><span style=\"color: #808000; text-decoration-color: #808000; font-weight: bold\">105</span><span style=\"color: #808000; text-decoration-color: #808000\">, </span><span style=\"color: #808000; text-decoration-color: #808000; font-weight: bold\">106</span><span style=\"color: #808000; text-decoration-color: #808000\">, </span><span style=\"color: #808000; text-decoration-color: #808000; font-weight: bold\">107</span><span style=\"color: #808000; text-decoration-color: #808000\">, </span> <span style=\"color: #7f7f7f; text-decoration-color: #7f7f7f\">                            </span>\n",
       "<span style=\"color: #7fbfbf; text-decoration-color: #7fbfbf\">           </span><span style=\"color: #808000; text-decoration-color: #808000; font-weight: bold\">108</span><span style=\"color: #808000; text-decoration-color: #808000\">, </span><span style=\"color: #808000; text-decoration-color: #808000; font-weight: bold\">109</span><span style=\"color: #808000; text-decoration-color: #808000\">, </span><span style=\"color: #808000; text-decoration-color: #808000; font-weight: bold\">110</span><span style=\"color: #808000; text-decoration-color: #808000\">, </span><span style=\"color: #808000; text-decoration-color: #808000; font-weight: bold\">111</span><span style=\"color: #808000; text-decoration-color: #808000\">, </span><span style=\"color: #808000; text-decoration-color: #808000; font-weight: bold\">112</span><span style=\"color: #808000; text-decoration-color: #808000\">, </span><span style=\"color: #808000; text-decoration-color: #808000; font-weight: bold\">113</span><span style=\"color: #808000; text-decoration-color: #808000\">, </span><span style=\"color: #808000; text-decoration-color: #808000; font-weight: bold\">114</span><span style=\"color: #808000; text-decoration-color: #808000\">, </span><span style=\"color: #808000; text-decoration-color: #808000; font-weight: bold\">115</span><span style=\"color: #808000; text-decoration-color: #808000\">, </span><span style=\"color: #808000; text-decoration-color: #808000; font-weight: bold\">116</span><span style=\"color: #808000; text-decoration-color: #808000\">, </span><span style=\"color: #808000; text-decoration-color: #808000; font-weight: bold\">117</span><span style=\"color: #808000; text-decoration-color: #808000\">, </span><span style=\"color: #808000; text-decoration-color: #808000; font-weight: bold\">118</span><span style=\"color: #808000; text-decoration-color: #808000\">, </span><span style=\"color: #808000; text-decoration-color: #808000; font-weight: bold\">119</span><span style=\"color: #808000; text-decoration-color: #808000\">, </span><span style=\"color: #808000; text-decoration-color: #808000; font-weight: bold\">120</span><span style=\"color: #808000; text-decoration-color: #808000\">, </span><span style=\"color: #808000; text-decoration-color: #808000; font-weight: bold\">121</span><span style=\"color: #808000; text-decoration-color: #808000\">, </span><span style=\"color: #808000; text-decoration-color: #808000; font-weight: bold\">122</span><span style=\"color: #808000; text-decoration-color: #808000\">, </span><span style=\"color: #808000; text-decoration-color: #808000; font-weight: bold\">123</span><span style=\"color: #808000; text-decoration-color: #808000\">, </span> <span style=\"color: #7f7f7f; text-decoration-color: #7f7f7f\">                            </span>\n",
       "<span style=\"color: #7fbfbf; text-decoration-color: #7fbfbf\">           </span><span style=\"color: #808000; text-decoration-color: #808000; font-weight: bold\">124</span><span style=\"color: #808000; text-decoration-color: #808000\">, </span><span style=\"color: #808000; text-decoration-color: #808000; font-weight: bold\">125</span><span style=\"color: #808000; text-decoration-color: #808000\">, </span><span style=\"color: #808000; text-decoration-color: #808000; font-weight: bold\">126</span><span style=\"color: #808000; text-decoration-color: #808000\">, </span><span style=\"color: #808000; text-decoration-color: #808000; font-weight: bold\">127</span><span style=\"color: #808000; text-decoration-color: #808000\">, </span><span style=\"color: #808000; text-decoration-color: #808000; font-weight: bold\">128</span><span style=\"color: #808000; text-decoration-color: #808000\">, </span><span style=\"color: #808000; text-decoration-color: #808000; font-weight: bold\">129</span><span style=\"color: #808000; text-decoration-color: #808000\">, </span><span style=\"color: #808000; text-decoration-color: #808000; font-weight: bold\">130</span><span style=\"color: #808000; text-decoration-color: #808000\">, </span><span style=\"color: #808000; text-decoration-color: #808000; font-weight: bold\">131</span><span style=\"color: #808000; text-decoration-color: #808000\">, </span><span style=\"color: #808000; text-decoration-color: #808000; font-weight: bold\">132</span><span style=\"color: #808000; text-decoration-color: #808000\">, </span><span style=\"color: #808000; text-decoration-color: #808000; font-weight: bold\">133</span><span style=\"color: #808000; text-decoration-color: #808000\">, </span><span style=\"color: #808000; text-decoration-color: #808000; font-weight: bold\">134</span><span style=\"color: #808000; text-decoration-color: #808000\">, </span><span style=\"color: #808000; text-decoration-color: #808000; font-weight: bold\">135</span><span style=\"color: #808000; text-decoration-color: #808000\">, </span><span style=\"color: #808000; text-decoration-color: #808000; font-weight: bold\">136</span><span style=\"color: #808000; text-decoration-color: #808000\">, </span><span style=\"color: #808000; text-decoration-color: #808000; font-weight: bold\">137</span><span style=\"color: #808000; text-decoration-color: #808000\">, </span><span style=\"color: #808000; text-decoration-color: #808000; font-weight: bold\">138</span><span style=\"color: #808000; text-decoration-color: #808000\">, </span><span style=\"color: #808000; text-decoration-color: #808000; font-weight: bold\">139</span><span style=\"color: #808000; text-decoration-color: #808000\">, </span> <span style=\"color: #7f7f7f; text-decoration-color: #7f7f7f\">                            </span>\n",
       "<span style=\"color: #7fbfbf; text-decoration-color: #7fbfbf\">           </span><span style=\"color: #808000; text-decoration-color: #808000; font-weight: bold\">140</span><span style=\"color: #808000; text-decoration-color: #808000\">, </span><span style=\"color: #808000; text-decoration-color: #808000; font-weight: bold\">141</span><span style=\"color: #808000; text-decoration-color: #808000\">, </span><span style=\"color: #808000; text-decoration-color: #808000; font-weight: bold\">142</span><span style=\"color: #808000; text-decoration-color: #808000\">, </span><span style=\"color: #808000; text-decoration-color: #808000; font-weight: bold\">143</span><span style=\"color: #808000; text-decoration-color: #808000\">, </span><span style=\"color: #808000; text-decoration-color: #808000; font-weight: bold\">144</span><span style=\"color: #808000; text-decoration-color: #808000\">, </span><span style=\"color: #808000; text-decoration-color: #808000; font-weight: bold\">145</span><span style=\"color: #808000; text-decoration-color: #808000\">, </span><span style=\"color: #808000; text-decoration-color: #808000; font-weight: bold\">146</span><span style=\"color: #808000; text-decoration-color: #808000\">, </span><span style=\"color: #808000; text-decoration-color: #808000; font-weight: bold\">147</span><span style=\"color: #808000; text-decoration-color: #808000\">, </span><span style=\"color: #808000; text-decoration-color: #808000; font-weight: bold\">148</span><span style=\"color: #808000; text-decoration-color: #808000\">, </span><span style=\"color: #808000; text-decoration-color: #808000; font-weight: bold\">149</span><span style=\"color: #808000; text-decoration-color: #808000\">, </span><span style=\"color: #808000; text-decoration-color: #808000; font-weight: bold\">150</span><span style=\"color: #808000; text-decoration-color: #808000\">, </span><span style=\"color: #808000; text-decoration-color: #808000; font-weight: bold\">151</span><span style=\"color: #808000; text-decoration-color: #808000\">, </span><span style=\"color: #808000; text-decoration-color: #808000; font-weight: bold\">152</span><span style=\"color: #808000; text-decoration-color: #808000\">, </span><span style=\"color: #808000; text-decoration-color: #808000; font-weight: bold\">153</span><span style=\"color: #808000; text-decoration-color: #808000\">, </span><span style=\"color: #808000; text-decoration-color: #808000; font-weight: bold\">154</span><span style=\"color: #808000; text-decoration-color: #808000\">, </span><span style=\"color: #808000; text-decoration-color: #808000; font-weight: bold\">155</span><span style=\"color: #808000; text-decoration-color: #808000\">, </span> <span style=\"color: #7f7f7f; text-decoration-color: #7f7f7f\">                            </span>\n",
       "<span style=\"color: #7fbfbf; text-decoration-color: #7fbfbf\">           </span><span style=\"color: #808000; text-decoration-color: #808000; font-weight: bold\">156</span><span style=\"color: #808000; text-decoration-color: #808000\">, </span><span style=\"color: #808000; text-decoration-color: #808000; font-weight: bold\">157</span><span style=\"color: #808000; text-decoration-color: #808000\">, </span><span style=\"color: #808000; text-decoration-color: #808000; font-weight: bold\">158</span><span style=\"color: #808000; text-decoration-color: #808000\">, </span><span style=\"color: #808000; text-decoration-color: #808000; font-weight: bold\">159</span><span style=\"color: #808000; text-decoration-color: #808000\">, </span><span style=\"color: #808000; text-decoration-color: #808000; font-weight: bold\">160</span><span style=\"color: #808000; text-decoration-color: #808000\">, </span><span style=\"color: #808000; text-decoration-color: #808000; font-weight: bold\">161</span><span style=\"color: #808000; text-decoration-color: #808000\">, </span><span style=\"color: #808000; text-decoration-color: #808000; font-weight: bold\">162</span><span style=\"color: #808000; text-decoration-color: #808000\">, </span><span style=\"color: #808000; text-decoration-color: #808000; font-weight: bold\">163</span><span style=\"color: #808000; text-decoration-color: #808000\">, </span><span style=\"color: #808000; text-decoration-color: #808000; font-weight: bold\">164</span><span style=\"color: #808000; text-decoration-color: #808000\">, </span><span style=\"color: #808000; text-decoration-color: #808000; font-weight: bold\">165</span><span style=\"color: #808000; text-decoration-color: #808000\">, </span><span style=\"color: #808000; text-decoration-color: #808000; font-weight: bold\">166</span><span style=\"color: #808000; text-decoration-color: #808000\">, </span><span style=\"color: #808000; text-decoration-color: #808000; font-weight: bold\">167</span><span style=\"color: #808000; text-decoration-color: #808000\">, </span><span style=\"color: #808000; text-decoration-color: #808000; font-weight: bold\">168</span><span style=\"color: #808000; text-decoration-color: #808000\">, </span><span style=\"color: #808000; text-decoration-color: #808000; font-weight: bold\">169</span><span style=\"color: #808000; text-decoration-color: #808000\">, </span><span style=\"color: #808000; text-decoration-color: #808000; font-weight: bold\">170</span><span style=\"color: #808000; text-decoration-color: #808000\">, </span><span style=\"color: #808000; text-decoration-color: #808000; font-weight: bold\">171</span><span style=\"color: #808000; text-decoration-color: #808000\">, </span> <span style=\"color: #7f7f7f; text-decoration-color: #7f7f7f\">                            </span>\n",
       "<span style=\"color: #7fbfbf; text-decoration-color: #7fbfbf\">           </span><span style=\"color: #808000; text-decoration-color: #808000; font-weight: bold\">172</span><span style=\"color: #808000; text-decoration-color: #808000\">, </span><span style=\"color: #808000; text-decoration-color: #808000; font-weight: bold\">173</span><span style=\"color: #808000; text-decoration-color: #808000\">, </span><span style=\"color: #808000; text-decoration-color: #808000; font-weight: bold\">174</span><span style=\"color: #808000; text-decoration-color: #808000\">, </span><span style=\"color: #808000; text-decoration-color: #808000; font-weight: bold\">175</span><span style=\"color: #808000; text-decoration-color: #808000\">, </span><span style=\"color: #808000; text-decoration-color: #808000; font-weight: bold\">176</span><span style=\"color: #808000; text-decoration-color: #808000\">, </span><span style=\"color: #808000; text-decoration-color: #808000; font-weight: bold\">177</span><span style=\"color: #808000; text-decoration-color: #808000\">, </span><span style=\"color: #808000; text-decoration-color: #808000; font-weight: bold\">178</span><span style=\"color: #808000; text-decoration-color: #808000\">, </span><span style=\"color: #808000; text-decoration-color: #808000; font-weight: bold\">179</span><span style=\"color: #808000; text-decoration-color: #808000; font-weight: bold\">]</span>                                          <span style=\"color: #7f7f7f; text-decoration-color: #7f7f7f\">                            </span>\n",
       "</pre>\n"
      ],
      "text/plain": [
       "\u001b[2;36m          \u001b[0m\u001b[2;36m \u001b[0m\u001b[33m Dataset is overriding train_indices to \u001b[0m\u001b[1;33m[\u001b[0m\u001b[1;33m20\u001b[0m\u001b[33m, \u001b[0m\u001b[1;33m21\u001b[0m\u001b[33m, \u001b[0m\u001b[1;33m22\u001b[0m\u001b[33m, \u001b[0m\u001b[1;33m23\u001b[0m\u001b[33m, \u001b[0m\u001b[1;33m24\u001b[0m\u001b[33m, \u001b[0m\u001b[1;33m25\u001b[0m\u001b[33m, \u001b[0m\u001b[1;33m26\u001b[0m\u001b[33m, \u001b[0m\u001b[1;33m27\u001b[0m\u001b[33m, \u001b[0m\u001b[1;33m28\u001b[0m\u001b[33m, \u001b[0m\u001b[1;33m29\u001b[0m\u001b[33m,\u001b[0m \u001b]8;id=339310;file:///home/ccl/.conda/envs/nerfstudio/lib/python3.8/site-packages/nerfstudio/data/dataparsers/nerfstudio_dataparser.py\u001b\\\u001b[2mnerfstudio_dataparser.py\u001b[0m\u001b]8;;\u001b\\\u001b[2m:\u001b[0m\u001b]8;id=101968;file:///home/ccl/.conda/envs/nerfstudio/lib/python3.8/site-packages/nerfstudio/data/dataparsers/nerfstudio_dataparser.py#200\u001b\\\u001b[2m200\u001b[0m\u001b]8;;\u001b\\\n",
       "\u001b[2;36m           \u001b[0m\u001b[1;33m30\u001b[0m\u001b[33m, \u001b[0m\u001b[1;33m31\u001b[0m\u001b[33m, \u001b[0m\u001b[1;33m32\u001b[0m\u001b[33m, \u001b[0m\u001b[1;33m33\u001b[0m\u001b[33m, \u001b[0m\u001b[1;33m34\u001b[0m\u001b[33m, \u001b[0m\u001b[1;33m35\u001b[0m\u001b[33m, \u001b[0m\u001b[1;33m36\u001b[0m\u001b[33m, \u001b[0m\u001b[1;33m37\u001b[0m\u001b[33m, \u001b[0m\u001b[1;33m38\u001b[0m\u001b[33m, \u001b[0m\u001b[1;33m39\u001b[0m\u001b[33m, \u001b[0m\u001b[1;33m40\u001b[0m\u001b[33m, \u001b[0m\u001b[1;33m41\u001b[0m\u001b[33m, \u001b[0m\u001b[1;33m42\u001b[0m\u001b[33m, \u001b[0m\u001b[1;33m43\u001b[0m\u001b[33m, \u001b[0m\u001b[1;33m44\u001b[0m\u001b[33m, \u001b[0m\u001b[1;33m45\u001b[0m\u001b[33m, \u001b[0m\u001b[1;33m46\u001b[0m\u001b[33m, \u001b[0m\u001b[1;33m47\u001b[0m\u001b[33m, \u001b[0m\u001b[1;33m48\u001b[0m\u001b[33m, \u001b[0m\u001b[1;33m49\u001b[0m\u001b[33m, \u001b[0m \u001b[2m                            \u001b[0m\n",
       "\u001b[2;36m           \u001b[0m\u001b[1;33m50\u001b[0m\u001b[33m, \u001b[0m\u001b[1;33m51\u001b[0m\u001b[33m, \u001b[0m\u001b[1;33m52\u001b[0m\u001b[33m, \u001b[0m\u001b[1;33m53\u001b[0m\u001b[33m, \u001b[0m\u001b[1;33m54\u001b[0m\u001b[33m, \u001b[0m\u001b[1;33m55\u001b[0m\u001b[33m, \u001b[0m\u001b[1;33m56\u001b[0m\u001b[33m, \u001b[0m\u001b[1;33m57\u001b[0m\u001b[33m, \u001b[0m\u001b[1;33m58\u001b[0m\u001b[33m, \u001b[0m\u001b[1;33m59\u001b[0m\u001b[33m, \u001b[0m\u001b[1;33m60\u001b[0m\u001b[33m, \u001b[0m\u001b[1;33m61\u001b[0m\u001b[33m, \u001b[0m\u001b[1;33m62\u001b[0m\u001b[33m, \u001b[0m\u001b[1;33m63\u001b[0m\u001b[33m, \u001b[0m\u001b[1;33m64\u001b[0m\u001b[33m, \u001b[0m\u001b[1;33m65\u001b[0m\u001b[33m, \u001b[0m\u001b[1;33m66\u001b[0m\u001b[33m, \u001b[0m\u001b[1;33m67\u001b[0m\u001b[33m, \u001b[0m\u001b[1;33m68\u001b[0m\u001b[33m, \u001b[0m\u001b[1;33m69\u001b[0m\u001b[33m, \u001b[0m \u001b[2m                            \u001b[0m\n",
       "\u001b[2;36m           \u001b[0m\u001b[1;33m70\u001b[0m\u001b[33m, \u001b[0m\u001b[1;33m71\u001b[0m\u001b[33m, \u001b[0m\u001b[1;33m72\u001b[0m\u001b[33m, \u001b[0m\u001b[1;33m73\u001b[0m\u001b[33m, \u001b[0m\u001b[1;33m74\u001b[0m\u001b[33m, \u001b[0m\u001b[1;33m75\u001b[0m\u001b[33m, \u001b[0m\u001b[1;33m76\u001b[0m\u001b[33m, \u001b[0m\u001b[1;33m77\u001b[0m\u001b[33m, \u001b[0m\u001b[1;33m78\u001b[0m\u001b[33m, \u001b[0m\u001b[1;33m79\u001b[0m\u001b[33m, \u001b[0m\u001b[1;33m80\u001b[0m\u001b[33m, \u001b[0m\u001b[1;33m81\u001b[0m\u001b[33m, \u001b[0m\u001b[1;33m82\u001b[0m\u001b[33m, \u001b[0m\u001b[1;33m83\u001b[0m\u001b[33m, \u001b[0m\u001b[1;33m84\u001b[0m\u001b[33m, \u001b[0m\u001b[1;33m85\u001b[0m\u001b[33m, \u001b[0m\u001b[1;33m86\u001b[0m\u001b[33m, \u001b[0m\u001b[1;33m87\u001b[0m\u001b[33m, \u001b[0m\u001b[1;33m88\u001b[0m\u001b[33m, \u001b[0m\u001b[1;33m89\u001b[0m\u001b[33m, \u001b[0m \u001b[2m                            \u001b[0m\n",
       "\u001b[2;36m           \u001b[0m\u001b[1;33m90\u001b[0m\u001b[33m, \u001b[0m\u001b[1;33m91\u001b[0m\u001b[33m, \u001b[0m\u001b[1;33m92\u001b[0m\u001b[33m, \u001b[0m\u001b[1;33m93\u001b[0m\u001b[33m, \u001b[0m\u001b[1;33m94\u001b[0m\u001b[33m, \u001b[0m\u001b[1;33m95\u001b[0m\u001b[33m, \u001b[0m\u001b[1;33m96\u001b[0m\u001b[33m, \u001b[0m\u001b[1;33m97\u001b[0m\u001b[33m, \u001b[0m\u001b[1;33m98\u001b[0m\u001b[33m, \u001b[0m\u001b[1;33m99\u001b[0m\u001b[33m, \u001b[0m\u001b[1;33m100\u001b[0m\u001b[33m, \u001b[0m\u001b[1;33m101\u001b[0m\u001b[33m, \u001b[0m\u001b[1;33m102\u001b[0m\u001b[33m, \u001b[0m\u001b[1;33m103\u001b[0m\u001b[33m, \u001b[0m\u001b[1;33m104\u001b[0m\u001b[33m, \u001b[0m\u001b[1;33m105\u001b[0m\u001b[33m, \u001b[0m\u001b[1;33m106\u001b[0m\u001b[33m, \u001b[0m\u001b[1;33m107\u001b[0m\u001b[33m, \u001b[0m \u001b[2m                            \u001b[0m\n",
       "\u001b[2;36m           \u001b[0m\u001b[1;33m108\u001b[0m\u001b[33m, \u001b[0m\u001b[1;33m109\u001b[0m\u001b[33m, \u001b[0m\u001b[1;33m110\u001b[0m\u001b[33m, \u001b[0m\u001b[1;33m111\u001b[0m\u001b[33m, \u001b[0m\u001b[1;33m112\u001b[0m\u001b[33m, \u001b[0m\u001b[1;33m113\u001b[0m\u001b[33m, \u001b[0m\u001b[1;33m114\u001b[0m\u001b[33m, \u001b[0m\u001b[1;33m115\u001b[0m\u001b[33m, \u001b[0m\u001b[1;33m116\u001b[0m\u001b[33m, \u001b[0m\u001b[1;33m117\u001b[0m\u001b[33m, \u001b[0m\u001b[1;33m118\u001b[0m\u001b[33m, \u001b[0m\u001b[1;33m119\u001b[0m\u001b[33m, \u001b[0m\u001b[1;33m120\u001b[0m\u001b[33m, \u001b[0m\u001b[1;33m121\u001b[0m\u001b[33m, \u001b[0m\u001b[1;33m122\u001b[0m\u001b[33m, \u001b[0m\u001b[1;33m123\u001b[0m\u001b[33m, \u001b[0m \u001b[2m                            \u001b[0m\n",
       "\u001b[2;36m           \u001b[0m\u001b[1;33m124\u001b[0m\u001b[33m, \u001b[0m\u001b[1;33m125\u001b[0m\u001b[33m, \u001b[0m\u001b[1;33m126\u001b[0m\u001b[33m, \u001b[0m\u001b[1;33m127\u001b[0m\u001b[33m, \u001b[0m\u001b[1;33m128\u001b[0m\u001b[33m, \u001b[0m\u001b[1;33m129\u001b[0m\u001b[33m, \u001b[0m\u001b[1;33m130\u001b[0m\u001b[33m, \u001b[0m\u001b[1;33m131\u001b[0m\u001b[33m, \u001b[0m\u001b[1;33m132\u001b[0m\u001b[33m, \u001b[0m\u001b[1;33m133\u001b[0m\u001b[33m, \u001b[0m\u001b[1;33m134\u001b[0m\u001b[33m, \u001b[0m\u001b[1;33m135\u001b[0m\u001b[33m, \u001b[0m\u001b[1;33m136\u001b[0m\u001b[33m, \u001b[0m\u001b[1;33m137\u001b[0m\u001b[33m, \u001b[0m\u001b[1;33m138\u001b[0m\u001b[33m, \u001b[0m\u001b[1;33m139\u001b[0m\u001b[33m, \u001b[0m \u001b[2m                            \u001b[0m\n",
       "\u001b[2;36m           \u001b[0m\u001b[1;33m140\u001b[0m\u001b[33m, \u001b[0m\u001b[1;33m141\u001b[0m\u001b[33m, \u001b[0m\u001b[1;33m142\u001b[0m\u001b[33m, \u001b[0m\u001b[1;33m143\u001b[0m\u001b[33m, \u001b[0m\u001b[1;33m144\u001b[0m\u001b[33m, \u001b[0m\u001b[1;33m145\u001b[0m\u001b[33m, \u001b[0m\u001b[1;33m146\u001b[0m\u001b[33m, \u001b[0m\u001b[1;33m147\u001b[0m\u001b[33m, \u001b[0m\u001b[1;33m148\u001b[0m\u001b[33m, \u001b[0m\u001b[1;33m149\u001b[0m\u001b[33m, \u001b[0m\u001b[1;33m150\u001b[0m\u001b[33m, \u001b[0m\u001b[1;33m151\u001b[0m\u001b[33m, \u001b[0m\u001b[1;33m152\u001b[0m\u001b[33m, \u001b[0m\u001b[1;33m153\u001b[0m\u001b[33m, \u001b[0m\u001b[1;33m154\u001b[0m\u001b[33m, \u001b[0m\u001b[1;33m155\u001b[0m\u001b[33m, \u001b[0m \u001b[2m                            \u001b[0m\n",
       "\u001b[2;36m           \u001b[0m\u001b[1;33m156\u001b[0m\u001b[33m, \u001b[0m\u001b[1;33m157\u001b[0m\u001b[33m, \u001b[0m\u001b[1;33m158\u001b[0m\u001b[33m, \u001b[0m\u001b[1;33m159\u001b[0m\u001b[33m, \u001b[0m\u001b[1;33m160\u001b[0m\u001b[33m, \u001b[0m\u001b[1;33m161\u001b[0m\u001b[33m, \u001b[0m\u001b[1;33m162\u001b[0m\u001b[33m, \u001b[0m\u001b[1;33m163\u001b[0m\u001b[33m, \u001b[0m\u001b[1;33m164\u001b[0m\u001b[33m, \u001b[0m\u001b[1;33m165\u001b[0m\u001b[33m, \u001b[0m\u001b[1;33m166\u001b[0m\u001b[33m, \u001b[0m\u001b[1;33m167\u001b[0m\u001b[33m, \u001b[0m\u001b[1;33m168\u001b[0m\u001b[33m, \u001b[0m\u001b[1;33m169\u001b[0m\u001b[33m, \u001b[0m\u001b[1;33m170\u001b[0m\u001b[33m, \u001b[0m\u001b[1;33m171\u001b[0m\u001b[33m, \u001b[0m \u001b[2m                            \u001b[0m\n",
       "\u001b[2;36m           \u001b[0m\u001b[1;33m172\u001b[0m\u001b[33m, \u001b[0m\u001b[1;33m173\u001b[0m\u001b[33m, \u001b[0m\u001b[1;33m174\u001b[0m\u001b[33m, \u001b[0m\u001b[1;33m175\u001b[0m\u001b[33m, \u001b[0m\u001b[1;33m176\u001b[0m\u001b[33m, \u001b[0m\u001b[1;33m177\u001b[0m\u001b[33m, \u001b[0m\u001b[1;33m178\u001b[0m\u001b[33m, \u001b[0m\u001b[1;33m179\u001b[0m\u001b[1;33m]\u001b[0m                                          \u001b[2m                            \u001b[0m\n"
      ]
     },
     "metadata": {},
     "output_type": "display_data"
    },
    {
     "data": {
      "text/html": [
       "<pre style=\"white-space:pre;overflow-x:auto;line-height:normal;font-family:Menlo,'DejaVu Sans Mono',consolas,'Courier New',monospace\"><span style=\"color: #7fbfbf; text-decoration-color: #7fbfbf\">           </span><span style=\"color: #808000; text-decoration-color: #808000\"> Dataset is overriding val_indices to </span><span style=\"color: #808000; text-decoration-color: #808000; font-weight: bold\">[</span><span style=\"color: #808000; text-decoration-color: #808000; font-weight: bold\">180</span><span style=\"color: #808000; text-decoration-color: #808000\">, </span><span style=\"color: #808000; text-decoration-color: #808000; font-weight: bold\">181</span><span style=\"color: #808000; text-decoration-color: #808000\">, </span><span style=\"color: #808000; text-decoration-color: #808000; font-weight: bold\">182</span><span style=\"color: #808000; text-decoration-color: #808000\">, </span><span style=\"color: #808000; text-decoration-color: #808000; font-weight: bold\">183</span><span style=\"color: #808000; text-decoration-color: #808000\">, </span><span style=\"color: #808000; text-decoration-color: #808000; font-weight: bold\">184</span><span style=\"color: #808000; text-decoration-color: #808000\">, </span><span style=\"color: #808000; text-decoration-color: #808000; font-weight: bold\">185</span><span style=\"color: #808000; text-decoration-color: #808000\">, </span><span style=\"color: #808000; text-decoration-color: #808000; font-weight: bold\">186</span><span style=\"color: #808000; text-decoration-color: #808000\">, </span><span style=\"color: #808000; text-decoration-color: #808000; font-weight: bold\">187</span><span style=\"color: #808000; text-decoration-color: #808000\">, </span>  <a href=\"file:///home/ccl/.conda/envs/nerfstudio/lib/python3.8/site-packages/nerfstudio/data/dataparsers/nerfstudio_dataparser.py\" target=\"_blank\"><span style=\"color: #7f7f7f; text-decoration-color: #7f7f7f\">nerfstudio_dataparser.py</span></a><span style=\"color: #7f7f7f; text-decoration-color: #7f7f7f\">:</span><a href=\"file:///home/ccl/.conda/envs/nerfstudio/lib/python3.8/site-packages/nerfstudio/data/dataparsers/nerfstudio_dataparser.py#200\" target=\"_blank\"><span style=\"color: #7f7f7f; text-decoration-color: #7f7f7f\">200</span></a>\n",
       "<span style=\"color: #7fbfbf; text-decoration-color: #7fbfbf\">           </span><span style=\"color: #808000; text-decoration-color: #808000; font-weight: bold\">188</span><span style=\"color: #808000; text-decoration-color: #808000\">, </span><span style=\"color: #808000; text-decoration-color: #808000; font-weight: bold\">189</span><span style=\"color: #808000; text-decoration-color: #808000\">, </span><span style=\"color: #808000; text-decoration-color: #808000; font-weight: bold\">190</span><span style=\"color: #808000; text-decoration-color: #808000\">, </span><span style=\"color: #808000; text-decoration-color: #808000; font-weight: bold\">191</span><span style=\"color: #808000; text-decoration-color: #808000\">, </span><span style=\"color: #808000; text-decoration-color: #808000; font-weight: bold\">192</span><span style=\"color: #808000; text-decoration-color: #808000\">, </span><span style=\"color: #808000; text-decoration-color: #808000; font-weight: bold\">193</span><span style=\"color: #808000; text-decoration-color: #808000\">, </span><span style=\"color: #808000; text-decoration-color: #808000; font-weight: bold\">194</span><span style=\"color: #808000; text-decoration-color: #808000\">, </span><span style=\"color: #808000; text-decoration-color: #808000; font-weight: bold\">195</span><span style=\"color: #808000; text-decoration-color: #808000\">, </span><span style=\"color: #808000; text-decoration-color: #808000; font-weight: bold\">196</span><span style=\"color: #808000; text-decoration-color: #808000\">, </span><span style=\"color: #808000; text-decoration-color: #808000; font-weight: bold\">197</span><span style=\"color: #808000; text-decoration-color: #808000\">, </span><span style=\"color: #808000; text-decoration-color: #808000; font-weight: bold\">198</span><span style=\"color: #808000; text-decoration-color: #808000\">, </span><span style=\"color: #808000; text-decoration-color: #808000; font-weight: bold\">199</span><span style=\"color: #808000; text-decoration-color: #808000; font-weight: bold\">]</span>                      <span style=\"color: #7f7f7f; text-decoration-color: #7f7f7f\">                            </span>\n",
       "</pre>\n"
      ],
      "text/plain": [
       "\u001b[2;36m          \u001b[0m\u001b[2;36m \u001b[0m\u001b[33m Dataset is overriding val_indices to \u001b[0m\u001b[1;33m[\u001b[0m\u001b[1;33m180\u001b[0m\u001b[33m, \u001b[0m\u001b[1;33m181\u001b[0m\u001b[33m, \u001b[0m\u001b[1;33m182\u001b[0m\u001b[33m, \u001b[0m\u001b[1;33m183\u001b[0m\u001b[33m, \u001b[0m\u001b[1;33m184\u001b[0m\u001b[33m, \u001b[0m\u001b[1;33m185\u001b[0m\u001b[33m, \u001b[0m\u001b[1;33m186\u001b[0m\u001b[33m, \u001b[0m\u001b[1;33m187\u001b[0m\u001b[33m, \u001b[0m  \u001b]8;id=406042;file:///home/ccl/.conda/envs/nerfstudio/lib/python3.8/site-packages/nerfstudio/data/dataparsers/nerfstudio_dataparser.py\u001b\\\u001b[2mnerfstudio_dataparser.py\u001b[0m\u001b]8;;\u001b\\\u001b[2m:\u001b[0m\u001b]8;id=511600;file:///home/ccl/.conda/envs/nerfstudio/lib/python3.8/site-packages/nerfstudio/data/dataparsers/nerfstudio_dataparser.py#200\u001b\\\u001b[2m200\u001b[0m\u001b]8;;\u001b\\\n",
       "\u001b[2;36m           \u001b[0m\u001b[1;33m188\u001b[0m\u001b[33m, \u001b[0m\u001b[1;33m189\u001b[0m\u001b[33m, \u001b[0m\u001b[1;33m190\u001b[0m\u001b[33m, \u001b[0m\u001b[1;33m191\u001b[0m\u001b[33m, \u001b[0m\u001b[1;33m192\u001b[0m\u001b[33m, \u001b[0m\u001b[1;33m193\u001b[0m\u001b[33m, \u001b[0m\u001b[1;33m194\u001b[0m\u001b[33m, \u001b[0m\u001b[1;33m195\u001b[0m\u001b[33m, \u001b[0m\u001b[1;33m196\u001b[0m\u001b[33m, \u001b[0m\u001b[1;33m197\u001b[0m\u001b[33m, \u001b[0m\u001b[1;33m198\u001b[0m\u001b[33m, \u001b[0m\u001b[1;33m199\u001b[0m\u001b[1;33m]\u001b[0m                      \u001b[2m                            \u001b[0m\n"
      ]
     },
     "metadata": {},
     "output_type": "display_data"
    },
    {
     "data": {
      "text/html": [
       "<pre style=\"white-space:pre;overflow-x:auto;line-height:normal;font-family:Menlo,'DejaVu Sans Mono',consolas,'Courier New',monospace\">Setting up training dataset<span style=\"color: #808000; text-decoration-color: #808000\">...</span>\n",
       "</pre>\n"
      ],
      "text/plain": [
       "Setting up training dataset\u001b[33m...\u001b[0m\n"
      ]
     },
     "metadata": {},
     "output_type": "display_data"
    },
    {
     "data": {
      "text/html": [
       "<pre style=\"white-space:pre;overflow-x:auto;line-height:normal;font-family:Menlo,'DejaVu Sans Mono',consolas,'Courier New',monospace\">Caching all <span style=\"color: #008080; text-decoration-color: #008080; font-weight: bold\">160</span> images.\n",
       "</pre>\n"
      ],
      "text/plain": [
       "Caching all \u001b[1;36m160\u001b[0m images.\n"
      ]
     },
     "metadata": {},
     "output_type": "display_data"
    },
    {
     "data": {
      "application/vnd.jupyter.widget-view+json": {
       "model_id": "ee28c0ebcbfb425f9b46a1943954c627",
       "version_major": 2,
       "version_minor": 0
      },
      "text/plain": [
       "Output()"
      ]
     },
     "metadata": {},
     "output_type": "display_data"
    },
    {
     "data": {
      "text/html": [
       "<pre style=\"white-space:pre;overflow-x:auto;line-height:normal;font-family:Menlo,'DejaVu Sans Mono',consolas,'Courier New',monospace\"></pre>\n"
      ],
      "text/plain": []
     },
     "metadata": {},
     "output_type": "display_data"
    },
    {
     "data": {
      "text/html": [
       "<pre style=\"white-space:pre;overflow-x:auto;line-height:normal;font-family:Menlo,'DejaVu Sans Mono',consolas,'Courier New',monospace\">\n",
       "</pre>\n"
      ],
      "text/plain": [
       "\n"
      ]
     },
     "metadata": {},
     "output_type": "display_data"
    },
    {
     "data": {
      "text/html": [
       "<pre style=\"white-space:pre;overflow-x:auto;line-height:normal;font-family:Menlo,'DejaVu Sans Mono',consolas,'Courier New',monospace\">Setting up evaluation dataset<span style=\"color: #808000; text-decoration-color: #808000\">...</span>\n",
       "</pre>\n"
      ],
      "text/plain": [
       "Setting up evaluation dataset\u001b[33m...\u001b[0m\n"
      ]
     },
     "metadata": {},
     "output_type": "display_data"
    },
    {
     "data": {
      "text/html": [
       "<pre style=\"white-space:pre;overflow-x:auto;line-height:normal;font-family:Menlo,'DejaVu Sans Mono',consolas,'Courier New',monospace\">Caching all <span style=\"color: #008080; text-decoration-color: #008080; font-weight: bold\">20</span> images.\n",
       "</pre>\n"
      ],
      "text/plain": [
       "Caching all \u001b[1;36m20\u001b[0m images.\n"
      ]
     },
     "metadata": {},
     "output_type": "display_data"
    },
    {
     "data": {
      "application/vnd.jupyter.widget-view+json": {
       "model_id": "86c62b39f99642adbf1ac8e3e3e61ae6",
       "version_major": 2,
       "version_minor": 0
      },
      "text/plain": [
       "Output()"
      ]
     },
     "metadata": {},
     "output_type": "display_data"
    },
    {
     "data": {
      "text/html": [
       "<pre style=\"white-space:pre;overflow-x:auto;line-height:normal;font-family:Menlo,'DejaVu Sans Mono',consolas,'Courier New',monospace\"></pre>\n"
      ],
      "text/plain": []
     },
     "metadata": {},
     "output_type": "display_data"
    },
    {
     "data": {
      "text/html": [
       "<pre style=\"white-space:pre;overflow-x:auto;line-height:normal;font-family:Menlo,'DejaVu Sans Mono',consolas,'Courier New',monospace\">\n",
       "</pre>\n"
      ],
      "text/plain": [
       "\n"
      ]
     },
     "metadata": {},
     "output_type": "display_data"
    },
    {
     "data": {
      "text/html": [
       "<pre style=\"white-space:pre;overflow-x:auto;line-height:normal;font-family:Menlo,'DejaVu Sans Mono',consolas,'Courier New',monospace\">Loading latest checkpoint from load_dir\n",
       "</pre>\n"
      ],
      "text/plain": [
       "Loading latest checkpoint from load_dir\n"
      ]
     },
     "metadata": {},
     "output_type": "display_data"
    },
    {
     "data": {
      "text/html": [
       "<pre style=\"white-space:pre;overflow-x:auto;line-height:normal;font-family:Menlo,'DejaVu Sans Mono',consolas,'Courier New',monospace\">✅ Done loading checkpoint from \n",
       "outputs/pattern_plane1_72<span style=\"color: #008080; text-decoration-color: #008080; font-weight: bold\">0x480</span>/instant-ngp/<span style=\"color: #008080; text-decoration-color: #008080; font-weight: bold\">2023</span>-<span style=\"color: #008080; text-decoration-color: #008080; font-weight: bold\">09</span>-19_084949/nerfstudio_models/step-<span style=\"color: #008080; text-decoration-color: #008080; font-weight: bold\">000029999.</span>ckpt\n",
       "</pre>\n"
      ],
      "text/plain": [
       "✅ Done loading checkpoint from \n",
       "outputs/pattern_plane1_72\u001b[1;36m0x480\u001b[0m/instant-ngp/\u001b[1;36m2023\u001b[0m-\u001b[1;36m09\u001b[0m-19_084949/nerfstudio_models/step-\u001b[1;36m000029999.\u001b[0mckpt\n"
      ]
     },
     "metadata": {},
     "output_type": "display_data"
    }
   ],
   "source": [
    "\n",
    "# setup pipeline (which includes the DataManager)\n",
    "device = torch.device(\"cuda\" if torch.cuda.is_available() else \"cpu\")\n",
    "pipeline = config.pipeline.setup(device=device, test_mode=\"val\")\n",
    "pipeline.eval()\n",
    "\n",
    "\n",
    "checkpoint_path, step = eval_load_checkpoint(config, pipeline)\n",
    "results_path = config.get_base_dir() / \"results.json\"\n",
    "render_output_path = config.get_base_dir() / \"renders\"\n",
    "render_output_path.mkdir(parents=True, exist_ok=True)"
   ]
  },
  {
   "cell_type": "code",
   "execution_count": 12,
   "metadata": {},
   "outputs": [],
   "source": [
    "\n",
    "\n",
    "depth_filenames = pipeline.datamanager.eval_dataset.metadata[\"depth_filenames\"]\n",
    "\n",
    "def read_depth_map(file_path):\n",
    "    exr_file = OpenEXR.InputFile(file_path)\n",
    "    dw = exr_file.header()['dataWindow']\n",
    "    width = dw.max.x - dw.min.x + 1\n",
    "    height = dw.max.y - dw.min.y + 1\n",
    "    \n",
    "    pt = Imath.PixelType(Imath.PixelType.FLOAT)\n",
    "    depth_str = exr_file.channel('R', pt)\n",
    "    depth = np.frombuffer(depth_str, dtype=np.float32)\n",
    "    depth.shape = (height, width)  # reshape\n",
    "    \n",
    "    return torch.unsqueeze(torch.from_numpy(depth), dim=-1).to(device=device)\n",
    "\n",
    "# from: https://github.com/kobejean/bts/blob/d4f1de8f9c8f253cc2bcd1ce0d92fce193a72bac/pytorch/bts_eval.py#L91-L112\n",
    "def compute_errors(gt, pred):\n",
    "    thresh = np.maximum((gt / pred), (pred / gt))\n",
    "    d1 = (thresh < 1.25).mean()\n",
    "    d2 = (thresh < 1.25 ** 2).mean()\n",
    "    d3 = (thresh < 1.25 ** 3).mean()\n",
    "    \n",
    "    rmse = (gt - pred) ** 2\n",
    "    rmse = np.sqrt(rmse.mean())\n",
    "    \n",
    "    rmse_log = (np.log(gt) - np.log(pred)) ** 2\n",
    "    rmse_log = np.sqrt(rmse_log.mean())\n",
    "    \n",
    "    abs_rel = np.mean(np.abs(gt - pred) / gt)\n",
    "    sq_rel = np.mean(((gt - pred) ** 2) / gt)\n",
    "    \n",
    "    err = np.log(pred) - np.log(gt)\n",
    "    silog = np.sqrt(np.mean(err ** 2) - np.mean(err) ** 2) * 100\n",
    "    \n",
    "    err = np.abs(np.log10(pred) - np.log10(gt))\n",
    "    log10 = np.mean(err)\n",
    "    \n",
    "    return silog, log10, abs_rel, sq_rel, rmse, rmse_log, d1, d2, d3\n",
    "\n",
    "num_images = len(pipeline.datamanager.fixed_indices_eval_dataloader)\n",
    "depth_silog = np.zeros(num_images, np.float32)\n",
    "depth_log10 = np.zeros(num_images, np.float32)\n",
    "depth_rms = np.zeros(num_images, np.float32)\n",
    "depth_log_rms = np.zeros(num_images, np.float32)\n",
    "depth_abs_rel = np.zeros(num_images, np.float32)\n",
    "depth_sq_rel = np.zeros(num_images, np.float32)\n",
    "depth_d1 = np.zeros(num_images, np.float32)\n",
    "depth_d2 = np.zeros(num_images, np.float32)\n",
    "depth_d3 = np.zeros(num_images, np.float32)\n",
    "\n",
    "for camera_ray_bundle, batch in pipeline.datamanager.fixed_indices_eval_dataloader:\n",
    "    image_idx = batch[\"image_idx\"]\n",
    "    depth_filepath = depth_filenames[image_idx]\n",
    "    depth_gt = read_depth_map(str(depth_filepath))\n",
    "    mask = depth_gt <= 1000\n",
    "    depth_gt[depth_gt > 1000] = torch.min(depth_gt[mask])\n",
    "    outputs = pipeline.model.get_outputs_for_camera_ray_bundle(camera_ray_bundle)\n",
    "\n",
    "    rgb_pred = outputs[\"rgb\"]\n",
    "    rgb_gt = batch[\"image\"]\n",
    "    acc = outputs[\"accumulation\"]\n",
    "    acc_vis = colormaps.apply_colormap(acc)\n",
    "\n",
    "    depth_pred = outputs[\"depth\"]\n",
    "\n",
    "    depth_pred_vis = colormaps.apply_depth_colormap(\n",
    "        depth_pred,\n",
    "        accumulation=outputs[\"accumulation\"],\n",
    "    )\n",
    "    depth_gt_vis = colormaps.apply_depth_colormap(\n",
    "        depth_gt,\n",
    "    )\n",
    "    depth_gt_vis = torch.concat([depth_gt_vis, mask], dim=-1)\n",
    "    depth_diff = depth_pred - depth_gt\n",
    "    depth_diff[depth_gt > 1000] = torch.min(depth_diff[mask])\n",
    "    depth_diff_vis = colormaps.apply_depth_colormap(\n",
    "        depth_diff,\n",
    "    )\n",
    "    depth_diff_vis = torch.concat([depth_diff_vis, mask], dim=-1)\n",
    "\n",
    "    save_as_image(rgb_pred, render_output_path / f\"rgb_pred_{image_idx:04d}.png\")\n",
    "    save_as_image(rgb_gt, render_output_path / f\"rgb_gt_{image_idx:04d}.png\")\n",
    "    save_as_image(acc_vis, render_output_path / f\"acc_{image_idx:04d}.png\")\n",
    "    save_as_image(depth_pred_vis, render_output_path / f\"depth_pred_{image_idx:04d}.png\")\n",
    "    save_as_image(depth_gt_vis, render_output_path / f\"depth_gt_{image_idx:04d}.png\")\n",
    "    save_as_image(depth_diff_vis, render_output_path / f\"depth_diff_{image_idx:04d}.png\")\n",
    "\n",
    "    depth_silog[image_idx], depth_log10[image_idx], depth_abs_rel[image_idx], depth_sq_rel[image_idx], depth_rms[image_idx], depth_log_rms[image_idx], depth_d1[image_idx], depth_d2[image_idx], depth_d3[image_idx] = compute_errors(\n",
    "            depth_gt[mask].to(\"cpu\").numpy(), depth_pred[mask].to(\"cpu\").numpy())\n",
    "    \n",
    "    "
   ]
  },
  {
   "cell_type": "code",
   "execution_count": 21,
   "metadata": {},
   "outputs": [
    {
     "data": {
      "image/png": "[encoded data removed]",
      "text/plain": [
       "<Figure size 640x480 with 1 Axes>"
      ]
     },
     "metadata": {},
     "output_type": "display_data"
    },
    {
     "data": {
      "text/plain": [
       "701"
      ]
     },
     "execution_count": 21,
     "metadata": {},
     "output_type": "execute_result"
    }
   ],
   "source": [
    "\n",
    "\n",
    "# load data for coverting between original and normalized coodinate space\n",
    "dataparser_transforms_path = config.get_base_dir() / \"dataparser_transforms.json\"\n",
    "dataparser_transforms_data = json.load(open(dataparser_transforms_path))\n",
    "dataparser_scale = dataparser_transforms_data[\"scale\"]\n",
    "transform = torch.tensor(dataparser_transforms_data[\"transform\"])\n",
    "\n",
    "sampling_width = 0.5\n",
    "camera_ray_bundle = plane_eval_ray_bundle(dataparser_transforms_data, sampling_width).to(device)\n",
    "outputs = pipeline.model.get_outputs_for_camera_ray_bundle(camera_ray_bundle)\n",
    "\n",
    "rgb = outputs[\"rgb\"]\n",
    "depth = outputs[\"depth\"]\n",
    "mask = depth < 2 * sampling_width\n",
    "mask = torch.abs(depth - torch.mean(depth)) < 1 * torch.std(depth)\n",
    "acc = colormaps.apply_colormap(outputs[\"accumulation\"])\n",
    "depth_vis = torch.clone(depth)\n",
    "depth_vis[torch.logical_not(mask)] = torch.min(depth[mask])\n",
    "depth_vis = colormaps.apply_depth_colormap(\n",
    "    depth_vis,\n",
    "    accumulation=outputs[\"accumulation\"],\n",
    ")\n",
    "depth_vis = torch.concat([depth_vis, mask], dim=-1)\n",
    "\n",
    "z = sampling_width - (outputs[\"depth\"] / dataparser_scale)\n",
    "z_vis = torch.clone(z)\n",
    "z_vis[torch.logical_not(mask)] = torch.min(z[mask])\n",
    "z_vis = colormaps.apply_depth_colormap(\n",
    "    z_vis,\n",
    "    accumulation=outputs[\"accumulation\"],\n",
    ")\n",
    "z_vis = torch.concat([z_vis, mask], dim=-1)\n",
    "\n",
    "save_as_image(rgb, render_output_path / \"rgb.png\")\n",
    "save_as_image(acc, render_output_path / \"acc.png\")\n",
    "save_as_image(depth_vis, render_output_path / \"depth.png\")\n",
    "save_as_image(z_vis, render_output_path / \"z.png\")\n",
    "torch.save(z_vis, render_output_path / \"z.pt\")\n",
    "\n",
    "plt.hist(z.cpu().numpy().flatten(), bins=50, color='blue', alpha=0.7, label='z values')\n",
    "plt.xlabel('Z Values')\n",
    "plt.ylabel('Frequency')\n",
    "plt.title('Histogram of Z')\n",
    "plt.legend()\n",
    "plt.savefig(render_output_path / 'z_hist.jpeg')\n",
    "plt.show()\n",
    "\n",
    "# Get the output and define the names to save to\n",
    "benchmark_info = {\n",
    "    \"experiment_name\": config.experiment_name,\n",
    "    \"method_name\": config.method_name,\n",
    "    \"checkpoint\": str(checkpoint_path),\n",
    "    \"results\": {\n",
    "        \"max_z\": float(torch.max(z)),\n",
    "        \"min_z\": float(torch.min(z)),\n",
    "        \"std_z\": float(torch.std(z)),\n",
    "        \"mean_z\": float(torch.mean(z)),\n",
    "        \"depth_metrics\": {\n",
    "            \"silog\": float(depth_silog.mean()),\n",
    "            \"log10\": float(depth_log10.mean()),\n",
    "            \"abs_rel\": float(depth_abs_rel.mean()),\n",
    "            \"sq_rel\": float(depth_sq_rel.mean()),\n",
    "            \"rms\": float(depth_rms.mean()),\n",
    "            \"log_rms\": float(depth_log_rms.mean()),\n",
    "            \"d1\": float(depth_d1.mean()),\n",
    "            \"d2\": float(depth_d2.mean()),\n",
    "            \"d3\": float(depth_d3.mean()),\n",
    "        }\n",
    "    },\n",
    "}\n",
    "# Save output to output file\n",
    "results_path.write_text(json.dumps(benchmark_info, indent=2), \"utf8\")"
   ]
  },
  {
   "cell_type": "code",
   "execution_count": null,
   "metadata": {},
   "outputs": [],
   "source": []
  }
 ],
 "metadata": {
  "kernelspec": {
   "display_name": "nerfstudio",
   "language": "python",
   "name": "python3"
  },
  "language_info": {
   "codemirror_mode": {
    "name": "ipython",
    "version": 3
   },
   "file_extension": ".py",
   "mimetype": "text/x-python",
   "name": "python",
   "nbconvert_exporter": "python",
   "pygments_lexer": "ipython3",
   "version": "3.8.17"
  },
  "orig_nbformat": 4
 },
 "nbformat": 4,
 "nbformat_minor": 2
}
